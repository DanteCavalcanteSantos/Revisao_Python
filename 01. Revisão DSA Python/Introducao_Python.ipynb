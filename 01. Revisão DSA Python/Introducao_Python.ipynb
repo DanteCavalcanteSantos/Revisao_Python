{
 "cells": [
  {
   "cell_type": "code",
   "execution_count": null,
   "id": "39efb36a",
   "metadata": {},
   "outputs": [
    {
     "name": "stdout",
     "output_type": "stream",
     "text": [
      "Hello World\n"
     ]
    }
   ],
   "source": [
    "print(\"Hello World\")"
   ]
  },
  {
   "cell_type": "code",
   "execution_count": 2,
   "id": "14259d6a",
   "metadata": {},
   "outputs": [
    {
     "name": "stdout",
     "output_type": "stream",
     "text": [
      "60\n"
     ]
    }
   ],
   "source": [
    "#Revisão de função\n",
    "\n",
    "def soma(a,b):\n",
    "    return a + b\n",
    "\n",
    "resultado = soma(10, 50)\n",
    "\n",
    "print(resultado)"
   ]
  },
  {
   "cell_type": "code",
   "execution_count": 3,
   "id": "6bb439f4",
   "metadata": {},
   "outputs": [
    {
     "name": "stdout",
     "output_type": "stream",
     "text": [
      "['maça', 'pera', 'abacaxi']\n",
      "['maça', 'pera', 'abacaxi']\n",
      "['maça', 'pera', 'abacaxi']\n"
     ]
    }
   ],
   "source": [
    "#Manipulação de listas\n",
    "\n",
    "\n",
    "frutas = [\"maça\", \"pera\", \"abacaxi\"]\n",
    "\n",
    "for alimento in frutas:\n",
    "    print(frutas)"
   ]
  },
  {
   "cell_type": "code",
   "execution_count": 12,
   "id": "f750f829",
   "metadata": {},
   "outputs": [
    {
     "name": "stdout",
     "output_type": "stream",
     "text": [
      "----Cabeçalho----\n",
      "                 Name  ... Employee Annual Salary\n",
      "0      AARON  ELVIA J  ...              $88967.00\n",
      "1    AARON  JEFFERY M  ...              $80778.00\n",
      "2       AARON  KARINA  ...              $80778.00\n",
      "3  AARON  KIMBERLEI R  ...              $84780.00\n",
      "4  ABAD JR  VICENTE M  ...             $104736.00\n",
      "\n",
      "[5 rows x 4 columns]\n",
      "----Rodapé----\n",
      "                     Name  ... Employee Annual Salary\n",
      "32176  ZYGADLO  MICHAEL J  ...              $97448.00\n",
      "32177   ZYGOWICZ  PETER J  ...              $86520.00\n",
      "32178    ZYMANTAS  MARK E  ...              $83616.00\n",
      "32179  ZYRKOWSKI  CARLO E  ...              $86520.00\n",
      "32180  ZYSKOWSKI  DARIUSZ  ...             $110352.00\n",
      "\n",
      "[5 rows x 4 columns]\n",
      "----Nome das colunas----\n",
      "Index(['Name', 'Position Title', 'Department', 'Employee Annual Salary'], dtype='object')\n",
      "----Resumo Estatístico----\n",
      "                    Name  Position Title Department Employee Annual Salary\n",
      "count              32181           32181      32181                  32181\n",
      "unique             31893            1094         35                   1106\n",
      "top     KELLY  MICHAEL J  POLICE OFFICER     POLICE              $86520.00\n",
      "freq                   4            9489      13570                   2497\n"
     ]
    }
   ],
   "source": [
    "#abrindo arquivos com pandas\n",
    "\n",
    "import pandas as pd\n",
    "from pandas import DataFrame\n",
    "\n",
    "\n",
    "dados = r'C:\\Users\\dante\\OneDrive\\Documentos\\5. Estudos\\5.8 Python\\treinando\\Dashboard Salárioss.xlsx'\n",
    "\n",
    "df = pd.read_excel(dados)\n",
    "\n",
    "print(\"----Cabeçalho----\")\n",
    "print(df.head(5))\n",
    "print(\"----Rodapé----\")\n",
    "print(df.tail(5))\n",
    "print(\"----Nome das colunas----\")\n",
    "print(df.columns)\n",
    "print(\"----Resumo Estatístico----\")\n",
    "print(df.describe())"
   ]
  },
  {
   "cell_type": "code",
   "execution_count": null,
   "id": "7afcd738",
   "metadata": {},
   "outputs": [],
   "source": [
    "-'''Exercicios de condicionais\n",
    "\n",
    "Exercícios Básicos:\n",
    "Verificar se um número é positivo, negativo ou zero.\n",
    "Dica: Use if, elif, else.\n",
    "\n",
    "Checar se um número é par ou ímpar.\n",
    "Dica: Use o operador % (resto da divisão).\n",
    "\n",
    "Maior entre dois números.\n",
    "Dica: Compare os números e exiba o maior ou se são iguais.\n",
    "\n",
    "Exercícios Intermediários:\n",
    "\n",
    "Validar senha simples.\n",
    "Dica: Compare a entrada do usuário com uma senha pré-definida.\n",
    "\n",
    "Classificar idade em categorias (criança, adolescente, adulto).\n",
    "Dica: Criança (<13), Adolescente (13-17), Adulto (18+).\n",
    "\n",
    "*Calculadora simples (+, -, , /).\n",
    "Dica: Use condicionais para cada operador e trate divisão por zero.\n",
    "\n",
    "Exercícios Avançados:\n",
    "Verificar se um ano é bissexto.\n",
    "Regra: Bissexto se divisível por 4, exceto múltiplos de 100 (a menos que sejam de 400).\n",
    "\n",
    "Aprovar empréstimo bancário (salário > 3000 e idade entre 22 e 65).\n",
    "Dica: Combine condições com and.\n",
    "\n",
    "Jogo \"Pedra, Papel e Tesoura\".\n",
    "Regras: Pedra > Tesoura, Tesoura > Papel, Papel > Pedra.\n",
    "\n",
    "Desafios:\n",
    "Verificar se um triângulo é válido (soma de dois lados > terceiro lado).\n",
    "Dica: Teste todas as combinações de lados.\n",
    "\n",
    "Calcular desconto progressivo em compras (ex: 5% para R 100 − 200, 10\n",
    "100−200,10200).\n",
    "Dica: Use if encadeados para descontos diferentes.\n",
    "\n",
    "\n",
    "Bônus (Condicionais Aninhados):\n",
    "Verificar se um número é múltiplo de 3 e 5 ao mesmo tempo.\n",
    "\n",
    "Categorizar notas (A: ≥90, B: 80-89, C: 70-79, D: ≤70).\n",
    "\n",
    "Determinar o tipo de triângulo (equilátero, isósceles, escaleno). \n",
    "'''\n",
    "\n"
   ]
  },
  {
   "cell_type": "code",
   "execution_count": null,
   "id": "bdb70c35",
   "metadata": {},
   "outputs": [
    {
     "name": "stdout",
     "output_type": "stream",
     "text": [
      "O valor é negativo\n",
      "valor negativo\n"
     ]
    }
   ],
   "source": [
    "#condicionais testes\n",
    "\n",
    "\n",
    "# 1.Verificar se um número é positivo, negativo ou zero.\n",
    "\n",
    "value = -10\n",
    "\n",
    "if value == 0:\n",
    "    print(\"O valor é igual a 0\") \n",
    "elif value > 0:\n",
    "    print('O valor é positivo')\n",
    "elif value < 0:\n",
    "    print('O valor é negativo')\n",
    "\n",
    "## otimizando\n",
    "\n",
    "if value > 0:\n",
    "    print('Valor Positivo')\n",
    "elif value < 0:\n",
    "    print('Valor é Negativo')\n",
    "else: \n",
    "    print('Valor é zero')\n"
   ]
  },
  {
   "cell_type": "code",
   "execution_count": 21,
   "id": "e4aff22c",
   "metadata": {},
   "outputs": [
    {
     "name": "stdout",
     "output_type": "stream",
     "text": [
      "Valor é Impar\n"
     ]
    }
   ],
   "source": [
    "#2. Verificar se o número é par ou impar\n",
    "\n",
    "valor = 5\n",
    "\n",
    "\n",
    "if valor % 2 == 0:\n",
    "    print('Valor é Par')\n",
    "elif valor % 2 == 1:\n",
    "    print('Valor é Impar')"
   ]
  },
  {
   "cell_type": "code",
   "execution_count": 24,
   "id": "5f356211",
   "metadata": {},
   "outputs": [
    {
     "name": "stdout",
     "output_type": "stream",
     "text": [
      "Os valores são iguais\n"
     ]
    }
   ],
   "source": [
    "#3. Comparação de Números\n",
    "\n",
    "valor = 20\n",
    "valor2 = 20\n",
    "\n",
    "\n",
    "if valor == valor2:\n",
    "    print('Os valores são iguais')\n",
    "elif valor > valor2:\n",
    "    print(f'O {valor} é maior que o {valor2}')\n",
    "elif valor < valor2:\n",
    "    print(f'O {valor2} é maior que o {valor}')\n",
    "    \n"
   ]
  },
  {
   "cell_type": "code",
   "execution_count": null,
   "id": "c159f20e",
   "metadata": {},
   "outputs": [],
   "source": [
    "#Validar senha simples.\n",
    "#Dica: Compare a entrada do usuário com uma senha pré-definida.\n",
    "\n",
    "senha = \"Dante123\"\n",
    "valor_input = input('Digite a senha: ')\n",
    "\n",
    "if senha == valor_input:\n",
    "    print('senha correta')\n",
    "elif senha != valor_input:\n",
    "    print('senha incorreta')\n"
   ]
  },
  {
   "cell_type": "code",
   "execution_count": null,
   "id": "34c23494",
   "metadata": {},
   "outputs": [
    {
     "name": "stdout",
     "output_type": "stream",
     "text": [
      "Classificação adulto\n"
     ]
    }
   ],
   "source": [
    "#Classificar idade em categorias (criança, adolescente, adulto).\n",
    "#Dica: Criança (<13), Adolescente (13-17), Adulto (18+).\n",
    "\n",
    "idade = 18\n",
    "\n",
    "if idade <= 13:\n",
    "    print('Classificação Criança')\n",
    "elif idade > 13 and idade <= 17:\n",
    "    print('Classificação Adolescente')\n",
    "elif idade >=18:\n",
    "    print('Classificação Adulto')\n",
    "\n",
    "\n"
   ]
  },
  {
   "cell_type": "code",
   "execution_count": 10,
   "id": "8f5c512c",
   "metadata": {},
   "outputs": [
    {
     "name": "stdout",
     "output_type": "stream",
     "text": [
      "Soma: 30\n",
      "Subtração: -10\n",
      "Divisão: 0.5\n",
      "Multiplicação: 200\n"
     ]
    }
   ],
   "source": [
    "#*Calculadora simples (+, -, , /).\n",
    "#Dica: Use condicionais para cada operador e trate divisão por zero.\n",
    "\n",
    "\n",
    "def calculadora(a,b):\n",
    "    soma = a + b\n",
    "    subtracao = a - b\n",
    "    divisao = a/b\n",
    "    multiplicacao = a * b\n",
    "    return {\n",
    "        'soma': soma,\n",
    "        'subtracao': subtracao,\n",
    "        'divisao': divisao,\n",
    "        'multiplicacao': multiplicacao\n",
    "    }\n",
    "\n",
    "valor = 10\n",
    "valor2 = 20\n",
    "\n",
    "resultados = calculadora(valor, valor2)\n",
    "\n",
    "print(f\"Soma: {resultados['soma']}\")\n",
    "print(f\"Subtração: {resultados['subtracao']}\")\n",
    "print(f\"Divisão: {resultados['divisao']}\")\n",
    "print(f\"Multiplicação: {resultados['multiplicacao']}\")\n",
    "    \n"
   ]
  },
  {
   "cell_type": "code",
   "execution_count": 13,
   "id": "64549003",
   "metadata": {},
   "outputs": [
    {
     "name": "stdout",
     "output_type": "stream",
     "text": [
      "Emprestimo Negado\n"
     ]
    }
   ],
   "source": [
    "#Aprovar empréstimo bancário (salário > 3000 e idade entre 22 e 65).\n",
    "#Dica: Combine condições com and.\n",
    "\n",
    "idade = 25\n",
    "salario = 2000\n",
    "\n",
    "if idade >= 22 and idade <= 65 and salario >= 3000:\n",
    "    print('Emprestimo concedido')\n",
    "else:\n",
    "    print('Emprestimo Negado')\n"
   ]
  },
  {
   "cell_type": "code",
   "execution_count": 20,
   "id": "980f5027",
   "metadata": {},
   "outputs": [
    {
     "name": "stdout",
     "output_type": "stream",
     "text": [
      "tu ta gordo\n"
     ]
    }
   ],
   "source": [
    "'''Classificar IMC (Magreza, Normal, Sobrepeso, Obesidade).\n",
    "Tabela IMC:\n",
    "\n",
    "Magreza: < 18.5\n",
    "Normal: 18.5 - 24.9\n",
    "Sobrepeso: 25 - 29.9\n",
    "Obesidade: ≥ 30\n",
    "'''\n",
    "\n",
    "peso = 97.20\n",
    "altura = 1.79\n",
    " \n",
    "\n",
    "valor = peso / (altura ** 2)\n",
    "\n",
    "if valor >= 18.5 and valor <= 24.9:\n",
    "    print('Magreza (Vá se alimentar)')\n",
    "elif valor >= 25 and valor < 29.9:\n",
    "    print('Pode continuar se alimentando com um animal comum')\n",
    "elif valor > 30:\n",
    "    print('tu ta gordo')\n",
    "\n"
   ]
  },
  {
   "cell_type": "code",
   "execution_count": null,
   "id": "6854ddb9",
   "metadata": {},
   "outputs": [
    {
     "name": "stdout",
     "output_type": "stream",
     "text": [
      "Fizzbuzz\n"
     ]
    }
   ],
   "source": [
    "#Bônus (Condicionais Aninhados):\n",
    "#Verificar se um número é múltiplo de 3 e 5 ao mesmo tempo.\n",
    "\n",
    "valor = 75\n",
    "\n",
    "\n",
    "if valor % 3 == 0 and valor % 5 == 0:\n",
    "    print('Fizzbuzz')\n",
    "elif valor % 3 == 0:\n",
    "    print('Fizz')\n",
    "elif valor % 5 == 0:\n",
    "    print('Buzz')"
   ]
  },
  {
   "cell_type": "code",
   "execution_count": null,
   "id": "2631be49",
   "metadata": {},
   "outputs": [],
   "source": [
    "'''\n",
    "Fáceis\n",
    "\n",
    "Contagem Progressiva:\n",
    "Crie um programa que faça uma contagem de 0 até 20.\n",
    "\n",
    "Contagem Regressiva:\n",
    "Faça uma contagem de 50 até 0, pulando de 5 em 5.\n",
    "\n",
    "Tabuada:\n",
    "Gere a tabuada de qualquer número, de 1 a 10.\n",
    "\n",
    "Soma de Lista:\n",
    "Some todos os elementos de uma lista pré-definida de 5 números.\n",
    "\n",
    "Impressão de Caracteres:\n",
    "Peça uma palavra (ou defina uma variável) e imprima cada letra separadamente em uma linha.\n",
    "\n",
    "'''"
   ]
  },
  {
   "cell_type": "code",
   "execution_count": 4,
   "id": "19b0544b",
   "metadata": {},
   "outputs": [
    {
     "name": "stdout",
     "output_type": "stream",
     "text": [
      "0\n",
      "1\n",
      "2\n",
      "3\n",
      "4\n",
      "5\n",
      "6\n",
      "7\n",
      "8\n",
      "9\n",
      "10\n",
      "11\n",
      "12\n",
      "13\n",
      "14\n",
      "15\n",
      "16\n",
      "17\n",
      "18\n",
      "19\n",
      "20\n"
     ]
    }
   ],
   "source": [
    "#Contagem Progressiva:\n",
    "#Crie um programa que faça uma contagem de 0 até 20.\n",
    "\n",
    "n = 20\n",
    "\n",
    "for i in range(n + 1):\n",
    "    print(i)\n"
   ]
  },
  {
   "cell_type": "code",
   "execution_count": 11,
   "id": "7b698d6c",
   "metadata": {},
   "outputs": [
    {
     "name": "stdout",
     "output_type": "stream",
     "text": [
      "50\n",
      "45\n",
      "40\n",
      "35\n",
      "30\n",
      "25\n",
      "20\n",
      "15\n",
      "10\n",
      "5\n",
      "0\n"
     ]
    }
   ],
   "source": [
    "#Contagem Regressiva:\n",
    "#Faça uma contagem de 50 até 0, pulando de 5 em 5.\n",
    "\n",
    "\n",
    "for i in range(50, -1, -5):\n",
    "    print(i)"
   ]
  },
  {
   "cell_type": "code",
   "execution_count": 17,
   "id": "b932a133",
   "metadata": {},
   "outputs": [
    {
     "name": "stdout",
     "output_type": "stream",
     "text": [
      "2\n",
      "4\n",
      "6\n",
      "8\n",
      "10\n",
      "12\n",
      "14\n",
      "16\n",
      "18\n",
      "20\n"
     ]
    }
   ],
   "source": [
    "#Tabuada:\n",
    "#Gere a tabuada de qualquer número, de 1 a 10.\n",
    "\n",
    "valor = 2\n",
    "\n",
    "for i in range(1,11):\n",
    "    resultado = valor * i\n",
    "    print(resultado)"
   ]
  },
  {
   "cell_type": "code",
   "execution_count": null,
   "id": "5423d930",
   "metadata": {},
   "outputs": [
    {
     "name": "stdout",
     "output_type": "stream",
     "text": [
      "40\n",
      "15\n"
     ]
    }
   ],
   "source": [
    "#Soma de Lista:\n",
    "#Some todos os elementos de uma lista pré-definida de 5 números.\n",
    "\n",
    "a_lista = [1,2,3,4,5]\n",
    "\n",
    "for i in a_lista:\n",
    "   resultado += i\n",
    "print(resultado)\n",
    "\n",
    "#valores diferentes\n",
    "for i_1 in a_lista:\n",
    "   resultado_1 = sum(a_lista)\n",
    "print(resultado_1)"
   ]
  },
  {
   "cell_type": "code",
   "execution_count": 33,
   "id": "0c9413ae",
   "metadata": {},
   "outputs": [
    {
     "name": "stdout",
     "output_type": "stream",
     "text": [
      "['D']\n",
      "['a']\n",
      "['n']\n",
      "['t']\n",
      "['e']\n"
     ]
    }
   ],
   "source": [
    "#Impressão de Caracteres:\n",
    "# Peça uma palavra (ou defina uma variável) e imprima cada letra separadamente em uma linha.\n",
    "\n",
    "valor = 'Dante'\n",
    "\n",
    "for i in valor:\n",
    "    print(i.split())\n"
   ]
  },
  {
   "cell_type": "code",
   "execution_count": null,
   "id": "a044c25d",
   "metadata": {},
   "outputs": [],
   "source": [
    "'''\n",
    "Nível Médio:\n",
    "Números Pares:\n",
    "Mostre todos os números pares de 1 a 100.\n",
    "\n",
    "Fatorial:\n",
    "Calcule o fatorial de um número qualquer. (Ex.: 5! = 5×4×3×2×1 = 120)\n",
    "\n",
    "Soma de Ímpares:\n",
    "Some todos os números ímpares de 1 até 100.\n",
    "\n",
    "Contagem de Vogais:\n",
    "Dada uma palavra, conte quantas vogais ela tem.\n",
    "\n",
    "Inverter Palavra:\n",
    "Imprima uma palavra de trás pra frente. (Ex.: 'Python' → 'nohtyP')\n",
    "\n",
    "\n",
    "'''"
   ]
  },
  {
   "cell_type": "code",
   "execution_count": 32,
   "id": "1cfc390c",
   "metadata": {},
   "outputs": [
    {
     "name": "stdout",
     "output_type": "stream",
     "text": [
      "0\n",
      "2\n",
      "4\n",
      "6\n",
      "8\n",
      "10\n",
      "12\n",
      "14\n",
      "16\n",
      "18\n",
      "20\n",
      "22\n",
      "24\n",
      "26\n",
      "28\n",
      "30\n",
      "32\n",
      "34\n",
      "36\n",
      "38\n",
      "40\n",
      "42\n",
      "44\n",
      "46\n",
      "48\n",
      "50\n",
      "52\n",
      "54\n",
      "56\n",
      "58\n",
      "60\n",
      "62\n",
      "64\n",
      "66\n",
      "68\n",
      "70\n",
      "72\n",
      "74\n",
      "76\n",
      "78\n",
      "80\n",
      "82\n",
      "84\n",
      "86\n",
      "88\n",
      "90\n",
      "92\n",
      "94\n",
      "96\n",
      "98\n"
     ]
    }
   ],
   "source": [
    "#Números Pares:\n",
    "#Mostre todos os números pares de 1 a 100.\n",
    "\n",
    "\n",
    "for lista in range(0,100):\n",
    "    if lista % 2 == 0:\n",
    "        print(lista)\n",
    "\n",
    "\n"
   ]
  },
  {
   "cell_type": "code",
   "execution_count": 35,
   "id": "38966c1d",
   "metadata": {},
   "outputs": [
    {
     "name": "stdout",
     "output_type": "stream",
     "text": [
      "10! = 3628800\n"
     ]
    }
   ],
   "source": [
    "#Fatorial:\n",
    "#Calcule o fatorial de um número qualquer. (Ex.: 5! = 5×4×3×2×1 = 120)\n",
    "\n",
    "valor = 10\n",
    "resultado = 1\n",
    "\n",
    "for i in range(1, valor + 1):\n",
    "    resultado *= i\n",
    "\n",
    "print(f'{valor}! = {resultado}')\n"
   ]
  },
  {
   "cell_type": "code",
   "execution_count": 39,
   "id": "213039a3",
   "metadata": {},
   "outputs": [
    {
     "name": "stdout",
     "output_type": "stream",
     "text": [
      "3632983\n"
     ]
    }
   ],
   "source": [
    "#Soma de Ímpares:\n",
    "#Some todos os números ímpares de 1 até 100.\n",
    "\n",
    "for i in range(1,101):\n",
    "    if i % 2 != 0:\n",
    "        resultado += i\n",
    "\n",
    "print(resultado)"
   ]
  }
 ],
 "metadata": {
  "kernelspec": {
   "display_name": "base",
   "language": "python",
   "name": "python3"
  },
  "language_info": {
   "codemirror_mode": {
    "name": "ipython",
    "version": 3
   },
   "file_extension": ".py",
   "mimetype": "text/x-python",
   "name": "python",
   "nbconvert_exporter": "python",
   "pygments_lexer": "ipython3",
   "version": "3.9.13"
  }
 },
 "nbformat": 4,
 "nbformat_minor": 5
}
