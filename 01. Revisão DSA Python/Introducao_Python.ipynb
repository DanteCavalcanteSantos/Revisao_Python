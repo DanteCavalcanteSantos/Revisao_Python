{
 "cells": [
  {
   "cell_type": "code",
   "execution_count": null,
   "id": "39efb36a",
   "metadata": {},
   "outputs": [
    {
     "name": "stdout",
     "output_type": "stream",
     "text": [
      "Hello World\n"
     ]
    }
   ],
   "source": [
    "print(\"Hello World\")"
   ]
  },
  {
   "cell_type": "code",
   "execution_count": 2,
   "id": "14259d6a",
   "metadata": {},
   "outputs": [
    {
     "name": "stdout",
     "output_type": "stream",
     "text": [
      "60\n"
     ]
    }
   ],
   "source": [
    "#Revisão de função\n",
    "\n",
    "def soma(a,b):\n",
    "    return a + b\n",
    "\n",
    "resultado = soma(10, 50)\n",
    "\n",
    "print(resultado)"
   ]
  },
  {
   "cell_type": "code",
   "execution_count": 3,
   "id": "6bb439f4",
   "metadata": {},
   "outputs": [
    {
     "name": "stdout",
     "output_type": "stream",
     "text": [
      "['maça', 'pera', 'abacaxi']\n",
      "['maça', 'pera', 'abacaxi']\n",
      "['maça', 'pera', 'abacaxi']\n"
     ]
    }
   ],
   "source": [
    "#Manipulação de listas\n",
    "\n",
    "\n",
    "frutas = [\"maça\", \"pera\", \"abacaxi\"]\n",
    "\n",
    "for alimento in frutas:\n",
    "    print(frutas)"
   ]
  },
  {
   "cell_type": "code",
   "execution_count": 12,
   "id": "f750f829",
   "metadata": {},
   "outputs": [
    {
     "name": "stdout",
     "output_type": "stream",
     "text": [
      "----Cabeçalho----\n",
      "                 Name  ... Employee Annual Salary\n",
      "0      AARON  ELVIA J  ...              $88967.00\n",
      "1    AARON  JEFFERY M  ...              $80778.00\n",
      "2       AARON  KARINA  ...              $80778.00\n",
      "3  AARON  KIMBERLEI R  ...              $84780.00\n",
      "4  ABAD JR  VICENTE M  ...             $104736.00\n",
      "\n",
      "[5 rows x 4 columns]\n",
      "----Rodapé----\n",
      "                     Name  ... Employee Annual Salary\n",
      "32176  ZYGADLO  MICHAEL J  ...              $97448.00\n",
      "32177   ZYGOWICZ  PETER J  ...              $86520.00\n",
      "32178    ZYMANTAS  MARK E  ...              $83616.00\n",
      "32179  ZYRKOWSKI  CARLO E  ...              $86520.00\n",
      "32180  ZYSKOWSKI  DARIUSZ  ...             $110352.00\n",
      "\n",
      "[5 rows x 4 columns]\n",
      "----Nome das colunas----\n",
      "Index(['Name', 'Position Title', 'Department', 'Employee Annual Salary'], dtype='object')\n",
      "----Resumo Estatístico----\n",
      "                    Name  Position Title Department Employee Annual Salary\n",
      "count              32181           32181      32181                  32181\n",
      "unique             31893            1094         35                   1106\n",
      "top     KELLY  MICHAEL J  POLICE OFFICER     POLICE              $86520.00\n",
      "freq                   4            9489      13570                   2497\n"
     ]
    }
   ],
   "source": [
    "#abrindo arquivos com pandas\n",
    "\n",
    "import pandas as pd\n",
    "from pandas import DataFrame\n",
    "\n",
    "\n",
    "dados = r'C:\\Users\\dante\\OneDrive\\Documentos\\5. Estudos\\5.8 Python\\treinando\\Dashboard Salárioss.xlsx'\n",
    "\n",
    "df = pd.read_excel(dados)\n",
    "\n",
    "print(\"----Cabeçalho----\")\n",
    "print(df.head(5))\n",
    "print(\"----Rodapé----\")\n",
    "print(df.tail(5))\n",
    "print(\"----Nome das colunas----\")\n",
    "print(df.columns)\n",
    "print(\"----Resumo Estatístico----\")\n",
    "print(df.describe())"
   ]
  },
  {
   "cell_type": "code",
   "execution_count": null,
   "id": "7afcd738",
   "metadata": {},
   "outputs": [],
   "source": [
    "-'''Exercicios de condicionais\n",
    "\n",
    "Exercícios Básicos:\n",
    "Verificar se um número é positivo, negativo ou zero.\n",
    "Dica: Use if, elif, else.\n",
    "\n",
    "Checar se um número é par ou ímpar.\n",
    "Dica: Use o operador % (resto da divisão).\n",
    "\n",
    "Maior entre dois números.\n",
    "Dica: Compare os números e exiba o maior ou se são iguais.\n",
    "\n",
    "Exercícios Intermediários:\n",
    "\n",
    "Validar senha simples.\n",
    "Dica: Compare a entrada do usuário com uma senha pré-definida.\n",
    "\n",
    "Classificar idade em categorias (criança, adolescente, adulto).\n",
    "Dica: Criança (<13), Adolescente (13-17), Adulto (18+).\n",
    "\n",
    "*Calculadora simples (+, -, , /).\n",
    "Dica: Use condicionais para cada operador e trate divisão por zero.\n",
    "\n",
    "Exercícios Avançados:\n",
    "Verificar se um ano é bissexto.\n",
    "Regra: Bissexto se divisível por 4, exceto múltiplos de 100 (a menos que sejam de 400).\n",
    "\n",
    "Aprovar empréstimo bancário (salário > 3000 e idade entre 22 e 65).\n",
    "Dica: Combine condições com and.\n",
    "\n",
    "Jogo \"Pedra, Papel e Tesoura\".\n",
    "Regras: Pedra > Tesoura, Tesoura > Papel, Papel > Pedra.\n",
    "\n",
    "Desafios:\n",
    "Verificar se um triângulo é válido (soma de dois lados > terceiro lado).\n",
    "Dica: Teste todas as combinações de lados.\n",
    "\n",
    "Calcular desconto progressivo em compras (ex: 5% para R 100 − 200, 10\n",
    "100−200,10200).\n",
    "Dica: Use if encadeados para descontos diferentes.\n",
    "\n",
    "Classificar IMC (Magreza, Normal, Sobrepeso, Obesidade).\n",
    "Tabela IMC:\n",
    "\n",
    "Magreza: < 18.5\n",
    "Normal: 18.5 - 24.9\n",
    "Sobrepeso: 25 - 29.9\n",
    "Obesidade: ≥ 30\n",
    "\n",
    "Bônus (Condicionais Aninhados):\n",
    "Verificar se um número é múltiplo de 3 e 5 ao mesmo tempo.\n",
    "\n",
    "Categorizar notas (A: ≥90, B: 80-89, C: 70-79, D: ≤70).\n",
    "\n",
    "Determinar o tipo de triângulo (equilátero, isósceles, escaleno). \n",
    "'''\n",
    "\n"
   ]
  },
  {
   "cell_type": "code",
   "execution_count": null,
   "id": "bdb70c35",
   "metadata": {},
   "outputs": [
    {
     "name": "stdout",
     "output_type": "stream",
     "text": [
      "O valor é negativo\n",
      "valor negativo\n"
     ]
    }
   ],
   "source": [
    "#condicionais testes\n",
    "\n",
    "\n",
    "# 1.Verificar se um número é positivo, negativo ou zero.\n",
    "\n",
    "value = -10\n",
    "\n",
    "if value == 0:\n",
    "    print(\"O valor é igual a 0\") \n",
    "elif value > 0:\n",
    "    print('O valor é positivo')\n",
    "elif value < 0:\n",
    "    print('O valor é negativo')\n",
    "\n",
    "## otimizando\n",
    "\n",
    "if value > 0:\n",
    "    print('Valor Positivo')\n",
    "elif value < 0:\n",
    "    print('Valor é Negativo')\n",
    "else: \n",
    "    print('Valor é zero')\n"
   ]
  },
  {
   "cell_type": "code",
   "execution_count": 21,
   "id": "e4aff22c",
   "metadata": {},
   "outputs": [
    {
     "name": "stdout",
     "output_type": "stream",
     "text": [
      "Valor é Impar\n"
     ]
    }
   ],
   "source": [
    "#2. Verificar se o número é par ou impar\n",
    "\n",
    "valor = 5\n",
    "\n",
    "\n",
    "if valor % 2 == 0:\n",
    "    print('Valor é Par')\n",
    "elif valor % 2 == 1:\n",
    "    print('Valor é Impar')"
   ]
  },
  {
   "cell_type": "code",
   "execution_count": 24,
   "id": "5f356211",
   "metadata": {},
   "outputs": [
    {
     "name": "stdout",
     "output_type": "stream",
     "text": [
      "Os valores são iguais\n"
     ]
    }
   ],
   "source": [
    "#3. Comparação de Números\n",
    "\n",
    "valor = 20\n",
    "valor2 = 20\n",
    "\n",
    "\n",
    "if valor == valor2:\n",
    "    print('Os valores são iguais')\n",
    "elif valor > valor2:\n",
    "    print(f'O {valor} é maior que o {valor2}')\n",
    "elif valor < valor2:\n",
    "    print(f'O {valor2} é maior que o {valor}')\n",
    "    \n"
   ]
  },
  {
   "cell_type": "code",
   "execution_count": null,
   "id": "c159f20e",
   "metadata": {},
   "outputs": [],
   "source": [
    "#Validar senha simples.\n",
    "#Dica: Compare a entrada do usuário com uma senha pré-definida.\n",
    "\n",
    "senha = \"Dante123\"\n",
    "valor_input = input('Digite a senha: ')\n",
    "\n",
    "if senha == valor_input:\n",
    "    print('senha correta')\n",
    "elif senha != valor_input:\n",
    "    print('senha incorreta')\n"
   ]
  },
  {
   "cell_type": "code",
   "execution_count": null,
   "id": "34c23494",
   "metadata": {},
   "outputs": [
    {
     "name": "stdout",
     "output_type": "stream",
     "text": [
      "Classificação adulto\n"
     ]
    }
   ],
   "source": [
    "#Classificar idade em categorias (criança, adolescente, adulto).\n",
    "#Dica: Criança (<13), Adolescente (13-17), Adulto (18+).\n",
    "\n",
    "idade = 18\n",
    "\n",
    "if idade <= 13:\n",
    "    print('Classificação Criança')\n",
    "elif idade > 13 and idade <= 17:\n",
    "    print('Classificação Adolescente')\n",
    "elif idade >=18:\n",
    "    print('Classificação Adulto')\n",
    "\n",
    "\n"
   ]
  }
 ],
 "metadata": {
  "kernelspec": {
   "display_name": "base",
   "language": "python",
   "name": "python3"
  },
  "language_info": {
   "codemirror_mode": {
    "name": "ipython",
    "version": 3
   },
   "file_extension": ".py",
   "mimetype": "text/x-python",
   "name": "python",
   "nbconvert_exporter": "python",
   "pygments_lexer": "ipython3",
   "version": "3.9.13"
  }
 },
 "nbformat": 4,
 "nbformat_minor": 5
}
