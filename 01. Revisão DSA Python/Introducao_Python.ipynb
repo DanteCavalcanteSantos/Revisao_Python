{
 "cells": [
  {
   "cell_type": "code",
   "execution_count": null,
   "id": "39efb36a",
   "metadata": {},
   "outputs": [
    {
     "name": "stdout",
     "output_type": "stream",
     "text": [
      "Hello World\n"
     ]
    }
   ],
   "source": [
    "print(\"Hello World\")"
   ]
  },
  {
   "cell_type": "code",
   "execution_count": 2,
   "id": "14259d6a",
   "metadata": {},
   "outputs": [
    {
     "name": "stdout",
     "output_type": "stream",
     "text": [
      "60\n"
     ]
    }
   ],
   "source": [
    "#Revisão de função\n",
    "\n",
    "def soma(a,b):\n",
    "    return a + b\n",
    "\n",
    "resultado = soma(10, 50)\n",
    "\n",
    "print(resultado)"
   ]
  },
  {
   "cell_type": "code",
   "execution_count": 3,
   "id": "6bb439f4",
   "metadata": {},
   "outputs": [
    {
     "name": "stdout",
     "output_type": "stream",
     "text": [
      "['maça', 'pera', 'abacaxi']\n",
      "['maça', 'pera', 'abacaxi']\n",
      "['maça', 'pera', 'abacaxi']\n"
     ]
    }
   ],
   "source": [
    "#Manipulação de listas\n",
    "\n",
    "\n",
    "frutas = [\"maça\", \"pera\", \"abacaxi\"]\n",
    "\n",
    "for alimento in frutas:\n",
    "    print(frutas)"
   ]
  },
  {
   "cell_type": "code",
   "execution_count": null,
   "id": "f750f829",
   "metadata": {},
   "outputs": [
    {
     "name": "stdout",
     "output_type": "stream",
     "text": [
      "----Cabeçalho----\n",
      "                 Name  ... Employee Annual Salary\n",
      "0      AARON  ELVIA J  ...              $88967.00\n",
      "1    AARON  JEFFERY M  ...              $80778.00\n",
      "2       AARON  KARINA  ...              $80778.00\n",
      "3  AARON  KIMBERLEI R  ...              $84780.00\n",
      "4  ABAD JR  VICENTE M  ...             $104736.00\n",
      "\n",
      "[5 rows x 4 columns]\n",
      "----Rodapé----\n",
      "                     Name  ... Employee Annual Salary\n",
      "32176  ZYGADLO  MICHAEL J  ...              $97448.00\n",
      "32177   ZYGOWICZ  PETER J  ...              $86520.00\n",
      "32178    ZYMANTAS  MARK E  ...              $83616.00\n",
      "32179  ZYRKOWSKI  CARLO E  ...              $86520.00\n",
      "32180  ZYSKOWSKI  DARIUSZ  ...             $110352.00\n",
      "\n",
      "[5 rows x 4 columns]\n",
      "----Nome das colunas----\n",
      "Index(['Name', 'Position Title', 'Department', 'Employee Annual Salary'], dtype='object')\n",
      "----Resumo Estatístico----\n",
      "<bound method NDFrame.describe of                      Name  ... Employee Annual Salary\n",
      "0          AARON  ELVIA J  ...              $88967.00\n",
      "1        AARON  JEFFERY M  ...              $80778.00\n",
      "2           AARON  KARINA  ...              $80778.00\n",
      "3      AARON  KIMBERLEI R  ...              $84780.00\n",
      "4      ABAD JR  VICENTE M  ...             $104736.00\n",
      "...                   ...  ...                    ...\n",
      "32176  ZYGADLO  MICHAEL J  ...              $97448.00\n",
      "32177   ZYGOWICZ  PETER J  ...              $86520.00\n",
      "32178    ZYMANTAS  MARK E  ...              $83616.00\n",
      "32179  ZYRKOWSKI  CARLO E  ...              $86520.00\n",
      "32180  ZYSKOWSKI  DARIUSZ  ...             $110352.00\n",
      "\n",
      "[32181 rows x 4 columns]>\n"
     ]
    }
   ],
   "source": [
    "#abrindo arquivos com pandas\n",
    "\n",
    "import pandas as pd\n",
    "from pandas import DataFrame\n",
    "\n",
    "\n",
    "dados = r'C:\\Users\\dante\\OneDrive\\Documentos\\5. Estudos\\5.8 Python\\treinando\\Dashboard Salárioss.xlsx'\n",
    "\n",
    "df = pd.read_excel(dados)\n",
    "\n",
    "print(\"----Cabeçalho----\")\n",
    "print(df.head(5))\n",
    "print(\"----Rodapé----\")\n",
    "print(df.tail(5))\n",
    "print(\"----Nome das colunas----\")\n",
    "print(df.columns)\n",
    "print(\"----Resumo Estatístico----\")\n",
    "print(df.describe())"
   ]
  },
  {
   "cell_type": "code",
   "execution_count": null,
   "id": "bdb70c35",
   "metadata": {},
   "outputs": [],
   "source": [
    "#condicionais \n",
    "\n"
   ]
  }
 ],
 "metadata": {
  "kernelspec": {
   "display_name": "base",
   "language": "python",
   "name": "python3"
  },
  "language_info": {
   "codemirror_mode": {
    "name": "ipython",
    "version": 3
   },
   "file_extension": ".py",
   "mimetype": "text/x-python",
   "name": "python",
   "nbconvert_exporter": "python",
   "pygments_lexer": "ipython3",
   "version": "3.9.13"
  }
 },
 "nbformat": 4,
 "nbformat_minor": 5
}
